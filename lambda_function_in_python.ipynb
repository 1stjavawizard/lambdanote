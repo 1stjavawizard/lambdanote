{
  "nbformat": 4,
  "nbformat_minor": 0,
  "metadata": {
    "colab": {
      "provenance": [],
      "authorship_tag": "ABX9TyOo5A5nehF9AYu5b+bc0S3K",
      "include_colab_link": true
    },
    "kernelspec": {
      "name": "python3",
      "display_name": "Python 3"
    },
    "language_info": {
      "name": "python"
    }
  },
  "cells": [
    {
      "cell_type": "markdown",
      "metadata": {
        "id": "view-in-github",
        "colab_type": "text"
      },
      "source": [
        "<a href=\"https://colab.research.google.com/github/1stjavawizard/lambdanote/blob/main/lambda_function_in_python.ipynb\" target=\"_parent\"><img src=\"https://colab.research.google.com/assets/colab-badge.svg\" alt=\"Open In Colab\"/></a>"
      ]
    },
    {
      "cell_type": "markdown",
      "source": [
        "# This is working lambda function"
      ],
      "metadata": {
        "id": "t4obr5zEW9Kb"
      }
    },
    {
      "cell_type": "code",
      "source": [
        "\n",
        "lambda y: y * 2"
      ],
      "metadata": {
        "id": "tQ6dxkahZMT1"
      },
      "execution_count": null,
      "outputs": []
    }
  ]
}